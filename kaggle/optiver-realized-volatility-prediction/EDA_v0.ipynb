{
 "cells": [
  {
   "cell_type": "markdown",
   "metadata": {},
   "source": [
    "## Acknowledgements\n",
    "\n",
    "- https://www.kaggle.com/piantic/starter-optiver-quick-eda-automl-wip\n",
    "- https://www.kaggle.com/konradb/we-need-to-go-deeper-and-validate\n",
    "- https://www.kaggle.com/jiashenliu/introduction-to-financial-concepts-and-data\n"
   ]
  },
  {
   "cell_type": "markdown",
   "metadata": {},
   "source": [
    "## Setting up"
   ]
  },
  {
   "cell_type": "code",
   "execution_count": 2,
   "metadata": {},
   "outputs": [],
   "source": [
    "# Imports\n",
    "import os\n",
    "import sys\n",
    "import pandas as pd\n",
    "import numpy as np\n",
    "import matplotlib.pyplot as plt\n",
    "import seaborn as sns\n",
    "import glob\n",
    "import warnings\n",
    "import random\n",
    "\n",
    "from pylab import rcParams\n",
    "from sklearn.preprocessing import LabelEncoder\n",
    "from scipy import stats\n",
    "from scipy.special import boxcox1p\n",
    "from pprint import pprint\n",
    "\n",
    "import cufflinks as cf\n",
    "import plotly.offline\n",
    "\n",
    "# Add base dir path to sys.path so that I can do local exports\n",
    "sys.path.append(\"../..\")\n",
    "import utils"
   ]
  },
  {
   "cell_type": "code",
   "execution_count": 3,
   "metadata": {},
   "outputs": [
    {
     "data": {
      "text/html": [
       "        <script type=\"text/javascript\">\n",
       "        window.PlotlyConfig = {MathJaxConfig: 'local'};\n",
       "        if (window.MathJax) {MathJax.Hub.Config({SVG: {font: \"STIX-Web\"}});}\n",
       "        if (typeof require !== 'undefined') {\n",
       "        require.undef(\"plotly\");\n",
       "        requirejs.config({\n",
       "            paths: {\n",
       "                'plotly': ['https://cdn.plot.ly/plotly-2.2.0.min']\n",
       "            }\n",
       "        });\n",
       "        require(['plotly'], function(Plotly) {\n",
       "            window._Plotly = Plotly;\n",
       "        });\n",
       "        }\n",
       "        </script>\n",
       "        "
      ]
     },
     "metadata": {},
     "output_type": "display_data"
    }
   ],
   "source": [
    "# Global settings\n",
    "\n",
    "# Initialise logger\n",
    "LOGGER = utils.get_logger(\"house-prices\")\n",
    "\n",
    "# To ignore warnings\n",
    "warnings.filterwarnings(\"ignore\")\n",
    "\n",
    "#Limiting float output to 4 decimal points\n",
    "pd.set_option('display.float_format', lambda x: '{:.4f}'.format(x))\n",
    "\n",
    "# Default figure size in inches\n",
    "rcParams['figure.figsize'] = 12,6\n",
    "\n",
    "# Print on each line\n",
    "from IPython.core.interactiveshell import InteractiveShell\n",
    "InteractiveShell.ast_node_interactivity = \"all\"\n",
    "\n",
    "# Turn ON offline mode for plotly cufflinks iplots\n",
    "cf.go_offline()\n",
    "cf.set_config_file(offline=False, world_readable=True)"
   ]
  },
  {
   "cell_type": "code",
   "execution_count": 4,
   "metadata": {},
   "outputs": [],
   "source": [
    "# Configuration\n",
    "class Config:\n",
    "    data_dir = \"./data/\"\n",
    "    seed_value = 34\n",
    "    nfolds = 10\n",
    "    learning_rate = 0.05\n",
    "    "
   ]
  },
  {
   "cell_type": "code",
   "execution_count": 5,
   "metadata": {},
   "outputs": [],
   "source": [
    "# Seed All\n",
    "def seed_all(seed_value=Config.seed_value):\n",
    "    random.seed(seed_value)\n",
    "    os.environ['PYTHONHASHSEED'] = str(seed_value)\n",
    "    np.random.seed(seed_value)\n",
    "    \n",
    "seed_all()"
   ]
  },
  {
   "cell_type": "markdown",
   "metadata": {},
   "source": [
    "## Helpers"
   ]
  },
  {
   "cell_type": "code",
   "execution_count": 6,
   "metadata": {},
   "outputs": [],
   "source": [
    "def log_return(stock_prices_series):\n",
    "    return np.log(stock_prices_series).diff()\n",
    "\n",
    "def realized_volatility(series_log_return):\n",
    "    return np.sqrt(np.sum(series_log_return**2))\n",
    "\n",
    "def fill_wap(stock_df):\n",
    "    l1_sum = stock_df[\"bid_price1\"] * stock_df[\"ask_size1\"] + \\\n",
    "             stock_df[\"ask_price1\"] * stock_df[\"bid_size1\"]\n",
    "    l1_sizes = stock_df[\"ask_size1\"] + stock_df[\"bid_size1\"]\n",
    "    \n",
    "    l1_l2_sum = l1_sum + stock_df[\"bid_price2\"] * stock_df[\"ask_size2\"] + \\\n",
    "                         stock_df[\"ask_price2\"] * stock_df[\"bid_size2\"]\n",
    "    l1_l2_sizes = l1_sizes + stock_df[\"ask_size2\"] + stock_df[\"bid_size2\"]\n",
    "                                      \n",
    "    # L1 wap\n",
    "    stock_df[\"wap\"] = l1_sum / l1_sizes\n",
    "    \n",
    "    # L1 and L2 combined wap\n",
    "    stock_df[\"wap_l2\"] = l1_l2_sum / l1_l2_sizes\n",
    "    return stock_df\n",
    "                                    "
   ]
  },
  {
   "cell_type": "markdown",
   "metadata": {},
   "source": [
    "## Load data and preprocess"
   ]
  },
  {
   "cell_type": "markdown",
   "metadata": {},
   "source": [
    "#### Book and Trade example"
   ]
  },
  {
   "cell_type": "code",
   "execution_count": 7,
   "metadata": {},
   "outputs": [],
   "source": [
    "book = pd.read_parquet(f\"{Config.data_dir}/book_train.parquet/stock_id=6\")\n",
    "trades = pd.read_parquet(f\"{Config.data_dir}/trade_train.parquet/stock_id=6\")\n",
    "book.set_index(\"time_id\", inplace=True)\n",
    "trades.set_index(\"time_id\", inplace=True)"
   ]
  },
  {
   "cell_type": "code",
   "execution_count": 8,
   "metadata": {},
   "outputs": [
    {
     "data": {
      "text/html": [
       "<div>\n",
       "<style scoped>\n",
       "    .dataframe tbody tr th:only-of-type {\n",
       "        vertical-align: middle;\n",
       "    }\n",
       "\n",
       "    .dataframe tbody tr th {\n",
       "        vertical-align: top;\n",
       "    }\n",
       "\n",
       "    .dataframe thead th {\n",
       "        text-align: right;\n",
       "    }\n",
       "</style>\n",
       "<table border=\"1\" class=\"dataframe\">\n",
       "  <thead>\n",
       "    <tr style=\"text-align: right;\">\n",
       "      <th></th>\n",
       "      <th>seconds_in_bucket</th>\n",
       "      <th>bid_price1</th>\n",
       "      <th>ask_price1</th>\n",
       "      <th>bid_price2</th>\n",
       "      <th>ask_price2</th>\n",
       "      <th>bid_size1</th>\n",
       "      <th>ask_size1</th>\n",
       "      <th>bid_size2</th>\n",
       "      <th>ask_size2</th>\n",
       "    </tr>\n",
       "    <tr>\n",
       "      <th>time_id</th>\n",
       "      <th></th>\n",
       "      <th></th>\n",
       "      <th></th>\n",
       "      <th></th>\n",
       "      <th></th>\n",
       "      <th></th>\n",
       "      <th></th>\n",
       "      <th></th>\n",
       "      <th></th>\n",
       "    </tr>\n",
       "  </thead>\n",
       "  <tbody>\n",
       "    <tr>\n",
       "      <th>5</th>\n",
       "      <td>0</td>\n",
       "      <td>1.0008</td>\n",
       "      <td>1.0025</td>\n",
       "      <td>1.0008</td>\n",
       "      <td>1.0025</td>\n",
       "      <td>100</td>\n",
       "      <td>110</td>\n",
       "      <td>1</td>\n",
       "      <td>1</td>\n",
       "    </tr>\n",
       "    <tr>\n",
       "      <th>5</th>\n",
       "      <td>1</td>\n",
       "      <td>1.0008</td>\n",
       "      <td>1.0025</td>\n",
       "      <td>1.0008</td>\n",
       "      <td>1.0025</td>\n",
       "      <td>4</td>\n",
       "      <td>110</td>\n",
       "      <td>1</td>\n",
       "      <td>1</td>\n",
       "    </tr>\n",
       "    <tr>\n",
       "      <th>5</th>\n",
       "      <td>5</td>\n",
       "      <td>1.0019</td>\n",
       "      <td>1.0029</td>\n",
       "      <td>1.0016</td>\n",
       "      <td>1.0030</td>\n",
       "      <td>12</td>\n",
       "      <td>1</td>\n",
       "      <td>34</td>\n",
       "      <td>1</td>\n",
       "    </tr>\n",
       "    <tr>\n",
       "      <th>5</th>\n",
       "      <td>6</td>\n",
       "      <td>1.0009</td>\n",
       "      <td>1.0029</td>\n",
       "      <td>1.0008</td>\n",
       "      <td>1.0030</td>\n",
       "      <td>100</td>\n",
       "      <td>1</td>\n",
       "      <td>70</td>\n",
       "      <td>1</td>\n",
       "    </tr>\n",
       "    <tr>\n",
       "      <th>5</th>\n",
       "      <td>7</td>\n",
       "      <td>1.0011</td>\n",
       "      <td>1.0029</td>\n",
       "      <td>1.0011</td>\n",
       "      <td>1.0030</td>\n",
       "      <td>100</td>\n",
       "      <td>1</td>\n",
       "      <td>70</td>\n",
       "      <td>1</td>\n",
       "    </tr>\n",
       "  </tbody>\n",
       "</table>\n",
       "</div>"
      ],
      "text/plain": [
       "         seconds_in_bucket  bid_price1  ask_price1  bid_price2  ask_price2  \\\n",
       "time_id                                                                      \n",
       "5                        0      1.0008      1.0025      1.0008      1.0025   \n",
       "5                        1      1.0008      1.0025      1.0008      1.0025   \n",
       "5                        5      1.0019      1.0029      1.0016      1.0030   \n",
       "5                        6      1.0009      1.0029      1.0008      1.0030   \n",
       "5                        7      1.0011      1.0029      1.0011      1.0030   \n",
       "\n",
       "         bid_size1  ask_size1  bid_size2  ask_size2  \n",
       "time_id                                              \n",
       "5              100        110          1          1  \n",
       "5                4        110          1          1  \n",
       "5               12          1         34          1  \n",
       "5              100          1         70          1  \n",
       "5              100          1         70          1  "
      ]
     },
     "execution_count": 8,
     "metadata": {},
     "output_type": "execute_result"
    },
    {
     "data": {
      "text/html": [
       "<div>\n",
       "<style scoped>\n",
       "    .dataframe tbody tr th:only-of-type {\n",
       "        vertical-align: middle;\n",
       "    }\n",
       "\n",
       "    .dataframe tbody tr th {\n",
       "        vertical-align: top;\n",
       "    }\n",
       "\n",
       "    .dataframe thead th {\n",
       "        text-align: right;\n",
       "    }\n",
       "</style>\n",
       "<table border=\"1\" class=\"dataframe\">\n",
       "  <thead>\n",
       "    <tr style=\"text-align: right;\">\n",
       "      <th></th>\n",
       "      <th>seconds_in_bucket</th>\n",
       "      <th>price</th>\n",
       "      <th>size</th>\n",
       "      <th>order_count</th>\n",
       "    </tr>\n",
       "    <tr>\n",
       "      <th>time_id</th>\n",
       "      <th></th>\n",
       "      <th></th>\n",
       "      <th></th>\n",
       "      <th></th>\n",
       "    </tr>\n",
       "  </thead>\n",
       "  <tbody>\n",
       "    <tr>\n",
       "      <th>5</th>\n",
       "      <td>5</td>\n",
       "      <td>1.0025</td>\n",
       "      <td>116</td>\n",
       "      <td>8</td>\n",
       "    </tr>\n",
       "    <tr>\n",
       "      <th>5</th>\n",
       "      <td>12</td>\n",
       "      <td>1.0031</td>\n",
       "      <td>12</td>\n",
       "      <td>6</td>\n",
       "    </tr>\n",
       "    <tr>\n",
       "      <th>5</th>\n",
       "      <td>13</td>\n",
       "      <td>1.0032</td>\n",
       "      <td>5</td>\n",
       "      <td>3</td>\n",
       "    </tr>\n",
       "    <tr>\n",
       "      <th>5</th>\n",
       "      <td>15</td>\n",
       "      <td>1.0033</td>\n",
       "      <td>22</td>\n",
       "      <td>4</td>\n",
       "    </tr>\n",
       "    <tr>\n",
       "      <th>5</th>\n",
       "      <td>19</td>\n",
       "      <td>1.0029</td>\n",
       "      <td>2</td>\n",
       "      <td>1</td>\n",
       "    </tr>\n",
       "  </tbody>\n",
       "</table>\n",
       "</div>"
      ],
      "text/plain": [
       "         seconds_in_bucket  price  size  order_count\n",
       "time_id                                             \n",
       "5                        5 1.0025   116            8\n",
       "5                       12 1.0031    12            6\n",
       "5                       13 1.0032     5            3\n",
       "5                       15 1.0033    22            4\n",
       "5                       19 1.0029     2            1"
      ]
     },
     "execution_count": 8,
     "metadata": {},
     "output_type": "execute_result"
    }
   ],
   "source": [
    "book.head()\n",
    "trades.head()"
   ]
  },
  {
   "cell_type": "code",
   "execution_count": null,
   "metadata": {},
   "outputs": [],
   "source": []
  },
  {
   "cell_type": "code",
   "execution_count": 9,
   "metadata": {},
   "outputs": [],
   "source": [
    "def gather_book_stats(book_df):\n",
    "    # L1 and L2 size spreads\n",
    "    book_df[\"l1_size_spread\"] = book_df[\"ask_size1\"] - book_df[\"bid_size1\"]\n",
    "    book_df[\"l2_size_spread\"] = book_df[\"ask_size2\"] - book_df[\"bid_size2\"]\n",
    "    \n",
    "    # L1 and L2 price spreads\n",
    "    book_df[\"l1_price_spread\"] = book_df[\"ask_price1\"] - book_df[\"bid_price1\"]\n",
    "    book_df[\"l2_price_spread\"] = book_df[\"ask_price2\"] - book_df[\"bid_price2\"]\n",
    "    \n",
    "    # WAP\n",
    "    book_df = fill_wap(book_df)\n",
    "    \n",
    "    return book_df"
   ]
  },
  {
   "cell_type": "code",
   "execution_count": 10,
   "metadata": {},
   "outputs": [],
   "source": [
    "def gather_trade_stats(trade_df):\n",
    "    # Some stats about size and order count\n",
    "    trade_df[\"avg_trade_size\"] = trade_df[\"size\"] / trade_df[\"order_count\"]\n",
    "    \n",
    "    # Need cleaning\n",
    "    agg_trade_df = trade_df.groupby(\n",
    "        \"time_id\")[\"avg_trade_size\"].agg(np.sum).reset_index()\n",
    "    return agg_trade_df"
   ]
  },
  {
   "cell_type": "code",
   "execution_count": 11,
   "metadata": {},
   "outputs": [],
   "source": [
    "agg_trades = gather_trade_stats(trades)"
   ]
  },
  {
   "cell_type": "code",
   "execution_count": 12,
   "metadata": {},
   "outputs": [],
   "source": [
    "# agg_trades[\"avg_trade_size\"].iplot()"
   ]
  },
  {
   "cell_type": "code",
   "execution_count": 13,
   "metadata": {},
   "outputs": [
    {
     "data": {
      "text/html": [
       "<div>\n",
       "<style scoped>\n",
       "    .dataframe tbody tr th:only-of-type {\n",
       "        vertical-align: middle;\n",
       "    }\n",
       "\n",
       "    .dataframe tbody tr th {\n",
       "        vertical-align: top;\n",
       "    }\n",
       "\n",
       "    .dataframe thead th {\n",
       "        text-align: right;\n",
       "    }\n",
       "</style>\n",
       "<table border=\"1\" class=\"dataframe\">\n",
       "  <thead>\n",
       "    <tr style=\"text-align: right;\">\n",
       "      <th></th>\n",
       "      <th>time_id</th>\n",
       "      <th>avg_trade_size</th>\n",
       "    </tr>\n",
       "  </thead>\n",
       "  <tbody>\n",
       "    <tr>\n",
       "      <th>0</th>\n",
       "      <td>5</td>\n",
       "      <td>1330.8504</td>\n",
       "    </tr>\n",
       "    <tr>\n",
       "      <th>1</th>\n",
       "      <td>11</td>\n",
       "      <td>1456.6512</td>\n",
       "    </tr>\n",
       "    <tr>\n",
       "      <th>2</th>\n",
       "      <td>16</td>\n",
       "      <td>8669.6823</td>\n",
       "    </tr>\n",
       "    <tr>\n",
       "      <th>3</th>\n",
       "      <td>31</td>\n",
       "      <td>1635.0978</td>\n",
       "    </tr>\n",
       "    <tr>\n",
       "      <th>4</th>\n",
       "      <td>62</td>\n",
       "      <td>2667.5880</td>\n",
       "    </tr>\n",
       "  </tbody>\n",
       "</table>\n",
       "</div>"
      ],
      "text/plain": [
       "   time_id  avg_trade_size\n",
       "0        5       1330.8504\n",
       "1       11       1456.6512\n",
       "2       16       8669.6823\n",
       "3       31       1635.0978\n",
       "4       62       2667.5880"
      ]
     },
     "execution_count": 13,
     "metadata": {},
     "output_type": "execute_result"
    }
   ],
   "source": [
    "agg_trades.head()"
   ]
  },
  {
   "cell_type": "code",
   "execution_count": 14,
   "metadata": {},
   "outputs": [],
   "source": [
    "# TODO: Check/Handle NaNs"
   ]
  },
  {
   "cell_type": "code",
   "execution_count": 15,
   "metadata": {},
   "outputs": [
    {
     "data": {
      "text/plain": [
       "<AxesSubplot:>"
      ]
     },
     "execution_count": 15,
     "metadata": {},
     "output_type": "execute_result"
    },
    {
     "data": {
      "image/png": "[encoded data removed]",
      "text/plain": [
       "<Figure size 864x432 with 1 Axes>"
      ]
     },
     "metadata": {
      "needs_background": "light"
     },
     "output_type": "display_data"
    }
   ],
   "source": [
    "trades.groupby(by=[\"time_id\"])[\"avg_trade_size\"].agg(np.sum).reset_index(drop=True).plot()"
   ]
  },
  {
   "cell_type": "markdown",
   "metadata": {},
   "source": [
    "#### Generating model ready data"
   ]
  },
  {
   "cell_type": "code",
   "execution_count": 64,
   "metadata": {},
   "outputs": [],
   "source": [
    "def prepare_stock_data(stock_id, mode=\"train\"):\n",
    "    # Load book and trades data\n",
    "    book = pd.read_parquet(f\"{Config.data_dir}/book_{mode}.parquet/stock_id={stock_id}\")\n",
    "    trades = pd.read_parquet(f\"{Config.data_dir}/trade_{mode}.parquet/stock_id={stock_id}\")\n",
    "    \n",
    "    book.sort_values(by=[\"time_id\", \"seconds_in_bucket\"])\n",
    "    trades.sort_values(by=[\"time_id\", \"seconds_in_bucket\"])\n",
    "    \n",
    "    book_df = gather_book_stats(book)\n",
    "    \n",
    "    book_df[\"logret\"] = book_df.groupby(\"time_id\")[\"wap\"].apply(log_return).reset_index(drop=True).fillna(0)\n",
    "    book_df[\"logret_l2\"] = book_df.groupby(\"time_id\")[\"wap_l2\"].apply(log_return).reset_index(drop=True).fillna(0)\n",
    "    \n",
    "    # Realized volatility\n",
    "    agg_book_df = pd.merge(\n",
    "        book_df.groupby(\"time_id\")[\"logret\"].agg(realized_volatility).reset_index(),\n",
    "        book_df.groupby(\"time_id\")[\"logret_l2\"].agg(realized_volatility).reset_index(),\n",
    "        on=[\"time_id\"]\n",
    "    )\n",
    "    \n",
    "    agg_book_df = pd.merge(\n",
    "        book_df.groupby(\"time_id\").agg(\n",
    "            {\n",
    "                \"l1_size_spread\": ['mean', 'std'],\n",
    "                \"l1_price_spread\": ['mean', 'std']\n",
    "            }\n",
    "        ).reset_index(),\n",
    "        agg_book_df,\n",
    "        on=[\"time_id\"]\n",
    "    )\n",
    "    \n",
    "    agg_book_df = pd.merge(\n",
    "        gather_trade_stats(trades),\n",
    "        agg_book_df,\n",
    "        on=[\"time_id\"]\n",
    "    )\n",
    "    \n",
    "    agg_book_df[\"stock_id\"] = stock_id\n",
    "    \n",
    "    def new_columns(col):\n",
    "        if isinstance(col, tuple):\n",
    "            return \"_\".join(col)\n",
    "        return col\n",
    "    agg_book_df.columns = map(new_columns, agg_book_df.columns)\n",
    "    agg_book_df.drop(columns=['time_id_'], inplace=True)\n",
    "    \n",
    "    return agg_book_df   "
   ]
  },
  {
   "cell_type": "code",
   "execution_count": 65,
   "metadata": {},
   "outputs": [],
   "source": [
    "df = prepare_stock_data(0, \"test\")"
   ]
  },
  {
   "cell_type": "code",
   "execution_count": 66,
   "metadata": {},
   "outputs": [
    {
     "data": {
      "text/html": [
       "<div>\n",
       "<style scoped>\n",
       "    .dataframe tbody tr th:only-of-type {\n",
       "        vertical-align: middle;\n",
       "    }\n",
       "\n",
       "    .dataframe tbody tr th {\n",
       "        vertical-align: top;\n",
       "    }\n",
       "\n",
       "    .dataframe thead th {\n",
       "        text-align: right;\n",
       "    }\n",
       "</style>\n",
       "<table border=\"1\" class=\"dataframe\">\n",
       "  <thead>\n",
       "    <tr style=\"text-align: right;\">\n",
       "      <th></th>\n",
       "      <th>time_id</th>\n",
       "      <th>avg_trade_size</th>\n",
       "      <th>l1_size_spread_mean</th>\n",
       "      <th>l1_size_spread_std</th>\n",
       "      <th>l1_price_spread_mean</th>\n",
       "      <th>l1_price_spread_std</th>\n",
       "      <th>logret</th>\n",
       "      <th>logret_l2</th>\n",
       "      <th>stock_id</th>\n",
       "    </tr>\n",
       "  </thead>\n",
       "  <tbody>\n",
       "    <tr>\n",
       "      <th>0</th>\n",
       "      <td>4</td>\n",
       "      <td>48.6190</td>\n",
       "      <td>-84</td>\n",
       "      <td>161.0807</td>\n",
       "      <td>0.0006</td>\n",
       "      <td>0.0000</td>\n",
       "      <td>0.0003</td>\n",
       "      <td>0.0003</td>\n",
       "      <td>0</td>\n",
       "    </tr>\n",
       "  </tbody>\n",
       "</table>\n",
       "</div>"
      ],
      "text/plain": [
       "   time_id  avg_trade_size  l1_size_spread_mean  l1_size_spread_std  \\\n",
       "0        4         48.6190                  -84            161.0807   \n",
       "\n",
       "   l1_price_spread_mean  l1_price_spread_std  logret  logret_l2  stock_id  \n",
       "0                0.0006               0.0000  0.0003     0.0003         0  "
      ]
     },
     "execution_count": 66,
     "metadata": {},
     "output_type": "execute_result"
    }
   ],
   "source": [
    "df.head()"
   ]
  },
  {
   "cell_type": "code",
   "execution_count": null,
   "metadata": {},
   "outputs": [],
   "source": [
    "def ge"
   ]
  },
  {
   "cell_type": "code",
   "execution_count": 67,
   "metadata": {},
   "outputs": [],
   "source": [
    "book = pd.read_parquet(f\"{Config.data_dir}/book_train.parquet/stock_id=0\")"
   ]
  },
  {
   "cell_type": "code",
   "execution_count": 69,
   "metadata": {},
   "outputs": [
    {
     "data": {
      "text/html": [
       "<div>\n",
       "<style scoped>\n",
       "    .dataframe tbody tr th:only-of-type {\n",
       "        vertical-align: middle;\n",
       "    }\n",
       "\n",
       "    .dataframe tbody tr th {\n",
       "        vertical-align: top;\n",
       "    }\n",
       "\n",
       "    .dataframe thead th {\n",
       "        text-align: right;\n",
       "    }\n",
       "</style>\n",
       "<table border=\"1\" class=\"dataframe\">\n",
       "  <thead>\n",
       "    <tr style=\"text-align: right;\">\n",
       "      <th></th>\n",
       "      <th>time_id</th>\n",
       "      <th>seconds_in_bucket</th>\n",
       "      <th>bid_price1</th>\n",
       "      <th>ask_price1</th>\n",
       "      <th>bid_price2</th>\n",
       "      <th>ask_price2</th>\n",
       "      <th>bid_size1</th>\n",
       "      <th>ask_size1</th>\n",
       "      <th>bid_size2</th>\n",
       "      <th>ask_size2</th>\n",
       "    </tr>\n",
       "  </thead>\n",
       "  <tbody>\n",
       "    <tr>\n",
       "      <th>0</th>\n",
       "      <td>5</td>\n",
       "      <td>0</td>\n",
       "      <td>1.0014</td>\n",
       "      <td>1.0023</td>\n",
       "      <td>1.0014</td>\n",
       "      <td>1.0024</td>\n",
       "      <td>3</td>\n",
       "      <td>226</td>\n",
       "      <td>2</td>\n",
       "      <td>100</td>\n",
       "    </tr>\n",
       "    <tr>\n",
       "      <th>1</th>\n",
       "      <td>5</td>\n",
       "      <td>1</td>\n",
       "      <td>1.0014</td>\n",
       "      <td>1.0023</td>\n",
       "      <td>1.0014</td>\n",
       "      <td>1.0024</td>\n",
       "      <td>3</td>\n",
       "      <td>100</td>\n",
       "      <td>2</td>\n",
       "      <td>100</td>\n",
       "    </tr>\n",
       "    <tr>\n",
       "      <th>2</th>\n",
       "      <td>5</td>\n",
       "      <td>5</td>\n",
       "      <td>1.0014</td>\n",
       "      <td>1.0023</td>\n",
       "      <td>1.0014</td>\n",
       "      <td>1.0024</td>\n",
       "      <td>3</td>\n",
       "      <td>100</td>\n",
       "      <td>2</td>\n",
       "      <td>100</td>\n",
       "    </tr>\n",
       "    <tr>\n",
       "      <th>3</th>\n",
       "      <td>5</td>\n",
       "      <td>6</td>\n",
       "      <td>1.0014</td>\n",
       "      <td>1.0023</td>\n",
       "      <td>1.0014</td>\n",
       "      <td>1.0024</td>\n",
       "      <td>3</td>\n",
       "      <td>126</td>\n",
       "      <td>2</td>\n",
       "      <td>100</td>\n",
       "    </tr>\n",
       "    <tr>\n",
       "      <th>4</th>\n",
       "      <td>5</td>\n",
       "      <td>7</td>\n",
       "      <td>1.0014</td>\n",
       "      <td>1.0023</td>\n",
       "      <td>1.0014</td>\n",
       "      <td>1.0024</td>\n",
       "      <td>3</td>\n",
       "      <td>126</td>\n",
       "      <td>2</td>\n",
       "      <td>100</td>\n",
       "    </tr>\n",
       "  </tbody>\n",
       "</table>\n",
       "</div>"
      ],
      "text/plain": [
       "   time_id  seconds_in_bucket  bid_price1  ask_price1  bid_price2  ask_price2  \\\n",
       "0        5                  0      1.0014      1.0023      1.0014      1.0024   \n",
       "1        5                  1      1.0014      1.0023      1.0014      1.0024   \n",
       "2        5                  5      1.0014      1.0023      1.0014      1.0024   \n",
       "3        5                  6      1.0014      1.0023      1.0014      1.0024   \n",
       "4        5                  7      1.0014      1.0023      1.0014      1.0024   \n",
       "\n",
       "   bid_size1  ask_size1  bid_size2  ask_size2  \n",
       "0          3        226          2        100  \n",
       "1          3        100          2        100  \n",
       "2          3        100          2        100  \n",
       "3          3        126          2        100  \n",
       "4          3        126          2        100  "
      ]
     },
     "execution_count": 69,
     "metadata": {},
     "output_type": "execute_result"
    }
   ],
   "source": [
    "book.head()"
   ]
  },
  {
   "cell_type": "code",
   "execution_count": null,
   "metadata": {},
   "outputs": [],
   "source": []
  }
 ],
 "metadata": {
  "kernelspec": {
   "display_name": "Python 3",
   "language": "python",
   "name": "python3"
  },
  "language_info": {
   "codemirror_mode": {
    "name": "ipython",
    "version": 3
   },
   "file_extension": ".py",
   "mimetype": "text/x-python",
   "name": "python",
   "nbconvert_exporter": "python",
   "pygments_lexer": "ipython3",
   "version": "3.8.5"
  }
 },
 "nbformat": 4,
 "nbformat_minor": 4
}
